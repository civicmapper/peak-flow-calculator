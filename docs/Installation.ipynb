{
 "cells": [
  {
   "cell_type": "markdown",
   "metadata": {},
   "source": [
    "# Installation\n",
    "\n",
    "*A guide for ArcMap users.*\n",
    "\n",
    "This calculator is designed for use with ArcMap. It utilizes Esri's [`arcpy`](http://desktop.arcgis.com/en/arcmap/latest/analyze/arcpy/what-is-arcpy-.htm) package for accessing ArcMap's geoprocessing tools. It also requires a few  third party libraries that are available on [`pypi`](https://pypi.python.org/pypi). We need to install those dependencies in ArcMap's python installation; recognizing that that process might be outside of the wheelhouse for the typical ArcMap user, this guide walks through the installation process.\n",
    "\n",
    "The guide assumes you are on a Windows machine, since ArcMap is only distributed for Windows.\n",
    "\n",
    "## 1. Open up a command line interface. \n",
    "    \n",
    "You can use `cmd.exe`.\n",
    "\n",
    "If you're going to spend any time in the command line on Windows, we highly recommend [cmder](http://cmder.net/)--specifically the \"full\" portable version that includes \"Git-for-Windows\" (even if you have git for windows installed already).\n",
    "\n",
    "\n",
    "## 2. Download this repository\n",
    "\n",
    "Download a `zip` file from this repository, or use `git clone` to get this repository.\n",
    "\n",
    "\n",
    "## 3. Navigate to the directory \n",
    "\n",
    "In the command line, `cd C:\\path\\to\\your\\copy\\of\\peak-flow-calc` to put you into this folder. \n",
    "\n",
    "Running `dir` will list files in that directory; you should see `setup.py`.\n",
    "\n",
    "## 4. Install the package.\n",
    "\n",
    "Run `python -m setup.py` to install the third party dependencies. \n",
    "\n",
    "This will work assuming `python` is calling the Python executable that comes with ArcMap, which it likely will if you've never installed Python otherwise.\n",
    "\n",
    "\n",
    "However, depending on how Python was installed on your machine, the `python` portion of that command may or may not work (e.g., in some cases `python` gets taken by another Python installation). \n",
    "\n",
    "Since ArcMap uses Python 2.7.x, you may find that `py -2 -m setup.py` is what you need to run&mdash;that may be the case if you've gone and installed Python 3 using an official Python installer for Windows from [python.org](https://www.python.org/).\n",
    "\n",
    "If you get an error that `python` can't be found/command is not recognized, then Python hasn't been set as an environment variable for Windows. See [this documentation](https://docs.python.org/2/using/windows.html#excursus-setting-environment-variables) for instructions on how to do that."
   ]
  },
  {
   "cell_type": "code",
   "execution_count": null,
   "metadata": {
    "collapsed": true
   },
   "outputs": [],
   "source": []
  }
 ],
 "metadata": {
  "kernelspec": {
   "display_name": "Python 3",
   "language": "python",
   "name": "python3"
  },
  "language_info": {
   "codemirror_mode": {
    "name": "ipython",
    "version": 3
   },
   "file_extension": ".py",
   "mimetype": "text/x-python",
   "name": "python",
   "nbconvert_exporter": "python",
   "pygments_lexer": "ipython3",
   "version": "3.6.0"
  }
 },
 "nbformat": 4,
 "nbformat_minor": 2
}
